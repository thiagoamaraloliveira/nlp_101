{
 "cells": [
  {
   "cell_type": "markdown",
   "id": "a8a5a3b0",
   "metadata": {},
   "source": [
    "### Imports"
   ]
  },
  {
   "cell_type": "code",
   "execution_count": 2,
   "id": "4d73713a",
   "metadata": {},
   "outputs": [],
   "source": [
    "import pandas as pd\n",
    "from sklearn.model_selection import train_test_split\n",
    "from sklearn import metrics\n",
    "from sklearn.metrics import confusion_matrix,accuracy_score\n",
    "from sklearn.ensemble import RandomForestClassifier\n",
    "from sklearn.feature_extraction.text import TfidfVectorizer"
   ]
  },
  {
   "cell_type": "code",
   "execution_count": 4,
   "id": "2030145b",
   "metadata": {},
   "outputs": [
    {
     "data": {
      "text/html": [
       "<div>\n",
       "<style scoped>\n",
       "    .dataframe tbody tr th:only-of-type {\n",
       "        vertical-align: middle;\n",
       "    }\n",
       "\n",
       "    .dataframe tbody tr th {\n",
       "        vertical-align: top;\n",
       "    }\n",
       "\n",
       "    .dataframe thead th {\n",
       "        text-align: right;\n",
       "    }\n",
       "</style>\n",
       "<table border=\"1\" class=\"dataframe\">\n",
       "  <thead>\n",
       "    <tr style=\"text-align: right;\">\n",
       "      <th></th>\n",
       "      <th>Category</th>\n",
       "      <th>Message</th>\n",
       "    </tr>\n",
       "  </thead>\n",
       "  <tbody>\n",
       "    <tr>\n",
       "      <th>0</th>\n",
       "      <td>ham</td>\n",
       "      <td>Go until jurong point, crazy.. Available only ...</td>\n",
       "    </tr>\n",
       "    <tr>\n",
       "      <th>1</th>\n",
       "      <td>ham</td>\n",
       "      <td>Ok lar... Joking wif u oni...</td>\n",
       "    </tr>\n",
       "    <tr>\n",
       "      <th>2</th>\n",
       "      <td>spam</td>\n",
       "      <td>Free entry in 2 a wkly comp to win FA Cup fina...</td>\n",
       "    </tr>\n",
       "    <tr>\n",
       "      <th>3</th>\n",
       "      <td>ham</td>\n",
       "      <td>U dun say so early hor... U c already then say...</td>\n",
       "    </tr>\n",
       "    <tr>\n",
       "      <th>4</th>\n",
       "      <td>ham</td>\n",
       "      <td>Nah I don't think he goes to usf, he lives aro...</td>\n",
       "    </tr>\n",
       "  </tbody>\n",
       "</table>\n",
       "</div>"
      ],
      "text/plain": [
       "  Category                                            Message\n",
       "0      ham  Go until jurong point, crazy.. Available only ...\n",
       "1      ham                      Ok lar... Joking wif u oni...\n",
       "2     spam  Free entry in 2 a wkly comp to win FA Cup fina...\n",
       "3      ham  U dun say so early hor... U c already then say...\n",
       "4      ham  Nah I don't think he goes to usf, he lives aro..."
      ]
     },
     "execution_count": 4,
     "metadata": {},
     "output_type": "execute_result"
    }
   ],
   "source": [
    "spam = pd.read_csv(\"spam.csv\")\n",
    "spam.head()"
   ]
  },
  {
   "cell_type": "code",
   "execution_count": 5,
   "id": "704c35d8",
   "metadata": {},
   "outputs": [
    {
     "data": {
      "text/plain": [
       "(5572, 2)"
      ]
     },
     "execution_count": 5,
     "metadata": {},
     "output_type": "execute_result"
    }
   ],
   "source": [
    "spam.shape"
   ]
  },
  {
   "cell_type": "code",
   "execution_count": 6,
   "id": "0c563cac",
   "metadata": {},
   "outputs": [
    {
     "data": {
      "text/plain": [
       "ham     4825\n",
       "spam     747\n",
       "Name: Category, dtype: int64"
      ]
     },
     "execution_count": 6,
     "metadata": {},
     "output_type": "execute_result"
    }
   ],
   "source": [
    "spam[\"Category\"].value_counts()"
   ]
  },
  {
   "cell_type": "code",
   "execution_count": 7,
   "id": "a17b4001",
   "metadata": {},
   "outputs": [],
   "source": [
    "previ = spam[\"Message\"]\n",
    "classe= spam[\"Category\"]"
   ]
  },
  {
   "cell_type": "code",
   "execution_count": 8,
   "id": "a23fed46",
   "metadata": {},
   "outputs": [
    {
     "name": "stdout",
     "output_type": "stream",
     "text": [
      "(5572, 8709)\n"
     ]
    }
   ],
   "source": [
    "# Criar um vetor\n",
    "vetorizador = TfidfVectorizer()\n",
    "previsores = vetorizador.fit_transform(previ)\n",
    "print(previsores.shape)"
   ]
  },
  {
   "cell_type": "code",
   "execution_count": 10,
   "id": "5cc576b6",
   "metadata": {},
   "outputs": [
    {
     "name": "stdout",
     "output_type": "stream",
     "text": [
      "['0207' '02072069400' '02073162414' '02085076972' '021' '03' '04' '0430'\n",
      " '05' '050703' '0578' '06' '07' '07008009200' '07046744435' '07090201529'\n",
      " '07090298926' '07099833605' '07123456789' '0721072' '07732584351'\n",
      " '07734396839' '07742676969' '07753741225' '0776xxxxxxx' '07781482378'\n",
      " '07786200117' '077xxx' '078' '07801543489' '07808' '07808247860'\n",
      " '07808726822' '07815296484' '07821230901' '078498' '07880867867'\n",
      " '0789xxxxxxx' '07946746291' '0796xxxxxx' '07973788240' '07xxxxxxxxx' '08'\n",
      " '0800' '08000407165' '08000776320' '08000839402' '08000930705'\n",
      " '08000938767' '08001950382' '08002888812' '08002986030' '08002986906'\n",
      " '08002988890' '08006344447' '0808' '08081263000' '08081560665' '0825'\n",
      " '083' '0844' '08448350055' '08448714184' '0845' '08450542832'\n",
      " '08452810071' '08452810073' '08452810075over18' '0870' '08700435505150p'\n",
      " '08700469649' '08700621170150p' '08701213186' '08701237397' '08701417012'\n",
      " '08701417012150p' '0870141701216' '087016248' '08701752560'\n",
      " '087018728737' '0870241182716' '08702490080' '08702840625' '08704050406'\n",
      " '08704439680' '08704439680ts' '08706091795' '0870737910216yrs'\n",
      " '08707500020' '08707509020']\n"
     ]
    }
   ],
   "source": [
    "print(vetorizador.get_feature_names_out()[10:100])"
   ]
  },
  {
   "cell_type": "code",
   "execution_count": 11,
   "id": "c8303556",
   "metadata": {},
   "outputs": [],
   "source": [
    "## Separar dados para teste\n",
    "X_treinamento,X_teste,y_treinamento,y_teste = train_test_split(previsores,classe, test_size = 0.3)"
   ]
  },
  {
   "cell_type": "code",
   "execution_count": 12,
   "id": "8dc1566d",
   "metadata": {},
   "outputs": [
    {
     "data": {
      "text/plain": [
       "(1672, 8709)"
      ]
     },
     "execution_count": 12,
     "metadata": {},
     "output_type": "execute_result"
    }
   ],
   "source": [
    "X_teste.shape"
   ]
  },
  {
   "cell_type": "code",
   "execution_count": 13,
   "id": "84df53cd",
   "metadata": {},
   "outputs": [
    {
     "data": {
      "text/plain": [
       "RandomForestClassifier(n_estimators=500)"
      ]
     },
     "execution_count": 13,
     "metadata": {},
     "output_type": "execute_result"
    }
   ],
   "source": [
    "# Criar o Modelo\n",
    "floresta = RandomForestClassifier(n_estimators=500)\n",
    "floresta.fit(X_treinamento,y_treinamento)"
   ]
  },
  {
   "cell_type": "code",
   "execution_count": 15,
   "id": "46bba552",
   "metadata": {},
   "outputs": [
    {
     "name": "stdout",
     "output_type": "stream",
     "text": [
      "['ham' 'spam' 'ham' ... 'ham' 'ham' 'ham']\n"
     ]
    }
   ],
   "source": [
    "previsoes = floresta.predict(X_teste)\n",
    "print(previsoes)"
   ]
  },
  {
   "cell_type": "code",
   "execution_count": 16,
   "id": "41542ed4",
   "metadata": {},
   "outputs": [
    {
     "name": "stdout",
     "output_type": "stream",
     "text": [
      "[[1467    2]\n",
      " [  33  170]]\n"
     ]
    }
   ],
   "source": [
    "print(confusion_matrix(y_teste, previsoes))"
   ]
  },
  {
   "cell_type": "code",
   "execution_count": 17,
   "id": "8bdfb3ae",
   "metadata": {},
   "outputs": [
    {
     "name": "stdout",
     "output_type": "stream",
     "text": [
      "0.979066985645933\n",
      "              precision    recall  f1-score   support\n",
      "\n",
      "         ham       0.98      1.00      0.99      1469\n",
      "        spam       0.99      0.84      0.91       203\n",
      "\n",
      "    accuracy                           0.98      1672\n",
      "   macro avg       0.98      0.92      0.95      1672\n",
      "weighted avg       0.98      0.98      0.98      1672\n",
      "\n"
     ]
    }
   ],
   "source": [
    "print(accuracy_score(y_teste, previsoes))\n",
    "print(metrics.classification_report(y_teste, previsoes))"
   ]
  },
  {
   "cell_type": "code",
   "execution_count": null,
   "id": "13ae099e",
   "metadata": {},
   "outputs": [],
   "source": []
  },
  {
   "cell_type": "code",
   "execution_count": null,
   "id": "03346d57",
   "metadata": {},
   "outputs": [],
   "source": []
  },
  {
   "cell_type": "code",
   "execution_count": null,
   "id": "11776e4d",
   "metadata": {},
   "outputs": [],
   "source": []
  }
 ],
 "metadata": {
  "kernelspec": {
   "display_name": "Python 3 (ipykernel)",
   "language": "python",
   "name": "python3"
  },
  "language_info": {
   "codemirror_mode": {
    "name": "ipython",
    "version": 3
   },
   "file_extension": ".py",
   "mimetype": "text/x-python",
   "name": "python",
   "nbconvert_exporter": "python",
   "pygments_lexer": "ipython3",
   "version": "3.9.13"
  }
 },
 "nbformat": 4,
 "nbformat_minor": 5
}
