{
 "cells": [
  {
   "cell_type": "markdown",
   "id": "70f39610",
   "metadata": {},
   "source": [
    "### Imports"
   ]
  },
  {
   "cell_type": "code",
   "execution_count": null,
   "id": "45ed39df",
   "metadata": {},
   "outputs": [],
   "source": [
    "## pip install keras\n",
    "## pip install tensorflow\n",
    "## py -m venv keras\n",
    "## pip show tensorflow"
   ]
  },
  {
   "cell_type": "code",
   "execution_count": 1,
   "id": "ba48db93",
   "metadata": {},
   "outputs": [],
   "source": [
    "import pandas as pd\n",
    "from sklearn.model_selection import train_test_split\n",
    "from sklearn.preprocessing import LabelEncoder\n",
    "from sklearn.feature_extraction.text import CountVectorizer\n",
    "from sklearn.metrics import confusion_matrix\n",
    "from keras.models import Sequential\n",
    "from keras.layers import Dense, Dropout,Flatten, Embedding\n",
    "\n",
    "from keras.preprocessing.text import Tokenizer\n",
    "from keras_preprocessing.sequence import pad_sequences"
   ]
  },
  {
   "cell_type": "code",
   "execution_count": 2,
   "id": "62388459",
   "metadata": {},
   "outputs": [
    {
     "data": {
      "text/html": [
       "<div>\n",
       "<style scoped>\n",
       "    .dataframe tbody tr th:only-of-type {\n",
       "        vertical-align: middle;\n",
       "    }\n",
       "\n",
       "    .dataframe tbody tr th {\n",
       "        vertical-align: top;\n",
       "    }\n",
       "\n",
       "    .dataframe thead th {\n",
       "        text-align: right;\n",
       "    }\n",
       "</style>\n",
       "<table border=\"1\" class=\"dataframe\">\n",
       "  <thead>\n",
       "    <tr style=\"text-align: right;\">\n",
       "      <th></th>\n",
       "      <th>Category</th>\n",
       "      <th>Message</th>\n",
       "    </tr>\n",
       "  </thead>\n",
       "  <tbody>\n",
       "    <tr>\n",
       "      <th>0</th>\n",
       "      <td>ham</td>\n",
       "      <td>Go until jurong point, crazy.. Available only ...</td>\n",
       "    </tr>\n",
       "    <tr>\n",
       "      <th>1</th>\n",
       "      <td>ham</td>\n",
       "      <td>Ok lar... Joking wif u oni...</td>\n",
       "    </tr>\n",
       "    <tr>\n",
       "      <th>2</th>\n",
       "      <td>spam</td>\n",
       "      <td>Free entry in 2 a wkly comp to win FA Cup fina...</td>\n",
       "    </tr>\n",
       "    <tr>\n",
       "      <th>3</th>\n",
       "      <td>ham</td>\n",
       "      <td>U dun say so early hor... U c already then say...</td>\n",
       "    </tr>\n",
       "    <tr>\n",
       "      <th>4</th>\n",
       "      <td>ham</td>\n",
       "      <td>Nah I don't think he goes to usf, he lives aro...</td>\n",
       "    </tr>\n",
       "  </tbody>\n",
       "</table>\n",
       "</div>"
      ],
      "text/plain": [
       "  Category                                            Message\n",
       "0      ham  Go until jurong point, crazy.. Available only ...\n",
       "1      ham                      Ok lar... Joking wif u oni...\n",
       "2     spam  Free entry in 2 a wkly comp to win FA Cup fina...\n",
       "3      ham  U dun say so early hor... U c already then say...\n",
       "4      ham  Nah I don't think he goes to usf, he lives aro..."
      ]
     },
     "execution_count": 2,
     "metadata": {},
     "output_type": "execute_result"
    }
   ],
   "source": [
    "spam = pd.read_csv(\"spam.csv\")\n",
    "spam.head()"
   ]
  },
  {
   "cell_type": "code",
   "execution_count": 3,
   "id": "b26a827c",
   "metadata": {},
   "outputs": [
    {
     "name": "stdout",
     "output_type": "stream",
     "text": [
      "[0 0 1 ... 0 0 0]\n"
     ]
    }
   ],
   "source": [
    "## Preprocessamento (tratamento)\n",
    "labelencoder = LabelEncoder()\n",
    "y = labelencoder.fit_transform(spam[\"Category\"])\n",
    "print(y)"
   ]
  },
  {
   "cell_type": "code",
   "execution_count": 4,
   "id": "ae2819ac",
   "metadata": {},
   "outputs": [],
   "source": [
    "## Dividir Dados em Treino\n",
    "mensagens = spam[\"Message\"].values\n",
    "X_train,X_test, y_train,y_test = train_test_split(mensagens,y,test_size = 0.3)\n"
   ]
  },
  {
   "cell_type": "code",
   "execution_count": 6,
   "id": "3cce376d",
   "metadata": {},
   "outputs": [],
   "source": [
    "token = Tokenizer(num_words = 1000)\n",
    "token.fit_on_texts(X_train)\n",
    "\n",
    "X_train = token.texts_to_sequences(X_train)\n",
    "X_test = token.texts_to_sequences(X_test)"
   ]
  },
  {
   "cell_type": "code",
   "execution_count": 11,
   "id": "f554b9d4",
   "metadata": {},
   "outputs": [
    {
     "name": "stdout",
     "output_type": "stream",
     "text": [
      "[[ 32  39 416 ...   0   0   0]\n",
      " [ 32 295 242 ...   0   0   0]\n",
      " [208 595  12 ...   0   0   0]\n",
      " ...\n",
      " [777  31   3 ...   0   0   0]\n",
      " [  1 549   6 ...   0   0   0]\n",
      " [185  39  21 ...   0   0   0]]\n",
      "(3900, 500)\n"
     ]
    }
   ],
   "source": [
    "print(X_train)"
   ]
  },
  {
   "cell_type": "code",
   "execution_count": 9,
   "id": "902b1d21",
   "metadata": {},
   "outputs": [],
   "source": [
    "X_train = pad_sequences(X_train, padding = \"post\", maxlen=500)\n",
    "X_test = pad_sequences(X_test, padding = \"post\", maxlen=500)"
   ]
  },
  {
   "cell_type": "code",
   "execution_count": 12,
   "id": "29ff6fa1",
   "metadata": {},
   "outputs": [
    {
     "name": "stdout",
     "output_type": "stream",
     "text": [
      "[[ 32  39 416 ...   0   0   0]\n",
      " [ 32 295 242 ...   0   0   0]\n",
      " [208 595  12 ...   0   0   0]\n",
      " ...\n",
      " [777  31   3 ...   0   0   0]\n",
      " [  1 549   6 ...   0   0   0]\n",
      " [185  39  21 ...   0   0   0]]\n",
      "(3900, 500)\n"
     ]
    }
   ],
   "source": [
    "print(X_train)"
   ]
  },
  {
   "cell_type": "code",
   "execution_count": 13,
   "id": "6f31b6ac",
   "metadata": {},
   "outputs": [
    {
     "name": "stdout",
     "output_type": "stream",
     "text": [
      "7516\n"
     ]
    }
   ],
   "source": [
    "## vacabulario\n",
    "print(len(token.word_index))"
   ]
  },
  {
   "cell_type": "code",
   "execution_count": 14,
   "id": "192a58a9",
   "metadata": {},
   "outputs": [],
   "source": [
    "## Criando Modelo\n",
    "modelo = Sequential()\n",
    "\n",
    "modelo.add(Embedding(input_dim = len(token.word_index),output_dim=50,input_length=500))\n",
    "modelo.add(Flatten())\n",
    "\n",
    "modelo.add(Dense( units=10, activation=\"relu\"))\n",
    "modelo.add(Dropout(0.1))\n",
    "modelo.add(Dense( units=1, activation=\"sigmoid\"))"
   ]
  },
  {
   "cell_type": "code",
   "execution_count": 15,
   "id": "025b9573",
   "metadata": {},
   "outputs": [
    {
     "name": "stdout",
     "output_type": "stream",
     "text": [
      "Model: \"sequential\"\n",
      "_________________________________________________________________\n",
      " Layer (type)                Output Shape              Param #   \n",
      "=================================================================\n",
      " embedding (Embedding)       (None, 500, 50)           375800    \n",
      "                                                                 \n",
      " flatten (Flatten)           (None, 25000)             0         \n",
      "                                                                 \n",
      " dense (Dense)               (None, 10)                250010    \n",
      "                                                                 \n",
      " dropout (Dropout)           (None, 10)                0         \n",
      "                                                                 \n",
      " dense_1 (Dense)             (None, 1)                 11        \n",
      "                                                                 \n",
      "=================================================================\n",
      "Total params: 625,821\n",
      "Trainable params: 625,821\n",
      "Non-trainable params: 0\n",
      "_________________________________________________________________\n"
     ]
    }
   ],
   "source": [
    "## Montar a estrutura do Modelo\n",
    "modelo.compile(loss = \"mean_squared_error\", optimizer = \"adam\", metrics= [\"accuracy\"] )\n",
    "modelo.summary()"
   ]
  },
  {
   "cell_type": "code",
   "execution_count": 16,
   "id": "bc85c110",
   "metadata": {
    "scrolled": true
   },
   "outputs": [
    {
     "name": "stdout",
     "output_type": "stream",
     "text": [
      "Epoch 1/20\n",
      "390/390 [==============================] - 3s 7ms/step - loss: 0.0713 - accuracy: 0.9197 - val_loss: 0.0388 - val_accuracy: 0.9850\n",
      "Epoch 2/20\n",
      "390/390 [==============================] - 2s 6ms/step - loss: 0.0361 - accuracy: 0.9826 - val_loss: 0.0275 - val_accuracy: 0.9862\n",
      "Epoch 3/20\n",
      "390/390 [==============================] - 2s 6ms/step - loss: 0.0276 - accuracy: 0.9877 - val_loss: 0.0229 - val_accuracy: 0.9868\n",
      "Epoch 4/20\n",
      "390/390 [==============================] - 2s 6ms/step - loss: 0.0213 - accuracy: 0.9910 - val_loss: 0.0186 - val_accuracy: 0.9886\n",
      "Epoch 5/20\n",
      "390/390 [==============================] - 2s 6ms/step - loss: 0.0159 - accuracy: 0.9931 - val_loss: 0.0169 - val_accuracy: 0.9880\n",
      "Epoch 6/20\n",
      "390/390 [==============================] - 2s 6ms/step - loss: 0.0123 - accuracy: 0.9946 - val_loss: 0.0138 - val_accuracy: 0.9910\n",
      "Epoch 7/20\n",
      "390/390 [==============================] - 2s 6ms/step - loss: 0.0094 - accuracy: 0.9969 - val_loss: 0.0138 - val_accuracy: 0.9898\n",
      "Epoch 8/20\n",
      "390/390 [==============================] - 2s 6ms/step - loss: 0.0078 - accuracy: 0.9964 - val_loss: 0.0121 - val_accuracy: 0.9898\n",
      "Epoch 9/20\n",
      "390/390 [==============================] - 2s 6ms/step - loss: 0.0064 - accuracy: 0.9972 - val_loss: 0.0121 - val_accuracy: 0.9886\n",
      "Epoch 10/20\n",
      "390/390 [==============================] - 2s 6ms/step - loss: 0.0057 - accuracy: 0.9972 - val_loss: 0.0109 - val_accuracy: 0.9904\n",
      "Epoch 11/20\n",
      "390/390 [==============================] - 2s 6ms/step - loss: 0.0049 - accuracy: 0.9974 - val_loss: 0.0100 - val_accuracy: 0.9898\n",
      "Epoch 12/20\n",
      "390/390 [==============================] - 2s 6ms/step - loss: 0.0044 - accuracy: 0.9974 - val_loss: 0.0103 - val_accuracy: 0.9904\n",
      "Epoch 13/20\n",
      "390/390 [==============================] - 2s 6ms/step - loss: 0.0041 - accuracy: 0.9974 - val_loss: 0.0100 - val_accuracy: 0.9904\n",
      "Epoch 14/20\n",
      "390/390 [==============================] - 2s 6ms/step - loss: 0.0037 - accuracy: 0.9974 - val_loss: 0.0093 - val_accuracy: 0.9910\n",
      "Epoch 15/20\n",
      "390/390 [==============================] - 2s 6ms/step - loss: 0.0069 - accuracy: 0.9936 - val_loss: 0.0103 - val_accuracy: 0.9892\n",
      "Epoch 16/20\n",
      "390/390 [==============================] - 2s 6ms/step - loss: 0.0036 - accuracy: 0.9972 - val_loss: 0.0093 - val_accuracy: 0.9904\n",
      "Epoch 17/20\n",
      "390/390 [==============================] - 2s 6ms/step - loss: 0.0028 - accuracy: 0.9979 - val_loss: 0.0098 - val_accuracy: 0.9892\n",
      "Epoch 18/20\n",
      "390/390 [==============================] - 2s 6ms/step - loss: 0.0032 - accuracy: 0.9972 - val_loss: 0.0097 - val_accuracy: 0.9892\n",
      "Epoch 19/20\n",
      "390/390 [==============================] - 2s 6ms/step - loss: 0.0027 - accuracy: 0.9979 - val_loss: 0.0093 - val_accuracy: 0.9904\n",
      "Epoch 20/20\n",
      "390/390 [==============================] - 2s 6ms/step - loss: 0.0025 - accuracy: 0.9979 - val_loss: 0.0093 - val_accuracy: 0.9904\n"
     ]
    },
    {
     "data": {
      "text/plain": [
       "<keras.callbacks.History at 0x1d789c03100>"
      ]
     },
     "execution_count": 16,
     "metadata": {},
     "output_type": "execute_result"
    }
   ],
   "source": [
    "## Treinar o Modelo\n",
    "modelo.fit(X_train, y_train,epochs=20,batch_size=10, verbose= True, validation_data=(X_test,y_test))"
   ]
  },
  {
   "cell_type": "code",
   "execution_count": 17,
   "id": "4428e0c1",
   "metadata": {},
   "outputs": [
    {
     "name": "stdout",
     "output_type": "stream",
     "text": [
      "53/53 [==============================] - 0s 3ms/step - loss: 0.0093 - accuracy: 0.9904\n",
      "Loss: 0.009257901459932327\n",
      "Accuracy: 0.9904305934906006\n"
     ]
    }
   ],
   "source": [
    "loss,accuracy = modelo.evaluate(X_test,y_test)\n",
    "print(\"Loss:\",loss)\n",
    "print(\"Accuracy:\",accuracy)"
   ]
  },
  {
   "cell_type": "code",
   "execution_count": 18,
   "id": "c78d9841",
   "metadata": {},
   "outputs": [
    {
     "name": "stdout",
     "output_type": "stream",
     "text": [
      "53/53 [==============================] - 0s 3ms/step\n",
      "[[9.4431967e-01]\n",
      " [2.9497866e-07]\n",
      " [9.1592181e-01]\n",
      " ...\n",
      " [8.9277371e-08]\n",
      " [6.5048361e-10]\n",
      " [2.0291649e-19]]\n"
     ]
    }
   ],
   "source": [
    "nova_previsao = modelo.predict(X_test)\n",
    "print(nova_previsao)"
   ]
  },
  {
   "cell_type": "code",
   "execution_count": 19,
   "id": "c5598462",
   "metadata": {},
   "outputs": [
    {
     "name": "stdout",
     "output_type": "stream",
     "text": [
      "[[ True]\n",
      " [False]\n",
      " [ True]\n",
      " ...\n",
      " [False]\n",
      " [False]\n",
      " [False]]\n"
     ]
    }
   ],
   "source": [
    "prev = (nova_previsao > 0.5)\n",
    "print(prev)"
   ]
  },
  {
   "cell_type": "code",
   "execution_count": 20,
   "id": "9ecf0d34",
   "metadata": {},
   "outputs": [
    {
     "name": "stdout",
     "output_type": "stream",
     "text": [
      "[[1459    3]\n",
      " [  13  197]]\n"
     ]
    }
   ],
   "source": [
    "cm = confusion_matrix(y_test, prev)\n",
    "print(cm)"
   ]
  },
  {
   "cell_type": "code",
   "execution_count": null,
   "id": "41b41ee0",
   "metadata": {},
   "outputs": [],
   "source": []
  }
 ],
 "metadata": {
  "kernelspec": {
   "display_name": "Python 3 (ipykernel)",
   "language": "python",
   "name": "python3"
  },
  "language_info": {
   "codemirror_mode": {
    "name": "ipython",
    "version": 3
   },
   "file_extension": ".py",
   "mimetype": "text/x-python",
   "name": "python",
   "nbconvert_exporter": "python",
   "pygments_lexer": "ipython3",
   "version": "3.9.13"
  }
 },
 "nbformat": 4,
 "nbformat_minor": 5
}
