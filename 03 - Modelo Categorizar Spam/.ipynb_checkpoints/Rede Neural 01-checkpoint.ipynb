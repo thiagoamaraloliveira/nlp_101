{
 "cells": [
  {
   "cell_type": "markdown",
   "id": "70f39610",
   "metadata": {},
   "source": [
    "### Imports"
   ]
  },
  {
   "cell_type": "code",
   "execution_count": null,
   "id": "45ed39df",
   "metadata": {},
   "outputs": [],
   "source": [
    "## pip install keras\n",
    "## pip install tensorflow\n",
    "## py -m venv keras\n",
    "## pip show tensorflow"
   ]
  },
  {
   "cell_type": "code",
   "execution_count": 2,
   "id": "ba48db93",
   "metadata": {},
   "outputs": [],
   "source": [
    "import pandas as pd\n",
    "from sklearn.model_selection import train_test_split\n",
    "from sklearn.preprocessing import LabelEncoder\n",
    "from sklearn.feature_extraction.text import CountVectorizer\n",
    "from sklearn.metrics import confusion_matrix\n",
    "from keras.models import Sequential\n",
    "from keras.layers import Dense, Dropout"
   ]
  },
  {
   "cell_type": "code",
   "execution_count": 3,
   "id": "62388459",
   "metadata": {},
   "outputs": [
    {
     "data": {
      "text/html": [
       "<div>\n",
       "<style scoped>\n",
       "    .dataframe tbody tr th:only-of-type {\n",
       "        vertical-align: middle;\n",
       "    }\n",
       "\n",
       "    .dataframe tbody tr th {\n",
       "        vertical-align: top;\n",
       "    }\n",
       "\n",
       "    .dataframe thead th {\n",
       "        text-align: right;\n",
       "    }\n",
       "</style>\n",
       "<table border=\"1\" class=\"dataframe\">\n",
       "  <thead>\n",
       "    <tr style=\"text-align: right;\">\n",
       "      <th></th>\n",
       "      <th>Category</th>\n",
       "      <th>Message</th>\n",
       "    </tr>\n",
       "  </thead>\n",
       "  <tbody>\n",
       "    <tr>\n",
       "      <th>0</th>\n",
       "      <td>ham</td>\n",
       "      <td>Go until jurong point, crazy.. Available only ...</td>\n",
       "    </tr>\n",
       "    <tr>\n",
       "      <th>1</th>\n",
       "      <td>ham</td>\n",
       "      <td>Ok lar... Joking wif u oni...</td>\n",
       "    </tr>\n",
       "    <tr>\n",
       "      <th>2</th>\n",
       "      <td>spam</td>\n",
       "      <td>Free entry in 2 a wkly comp to win FA Cup fina...</td>\n",
       "    </tr>\n",
       "    <tr>\n",
       "      <th>3</th>\n",
       "      <td>ham</td>\n",
       "      <td>U dun say so early hor... U c already then say...</td>\n",
       "    </tr>\n",
       "    <tr>\n",
       "      <th>4</th>\n",
       "      <td>ham</td>\n",
       "      <td>Nah I don't think he goes to usf, he lives aro...</td>\n",
       "    </tr>\n",
       "  </tbody>\n",
       "</table>\n",
       "</div>"
      ],
      "text/plain": [
       "  Category                                            Message\n",
       "0      ham  Go until jurong point, crazy.. Available only ...\n",
       "1      ham                      Ok lar... Joking wif u oni...\n",
       "2     spam  Free entry in 2 a wkly comp to win FA Cup fina...\n",
       "3      ham  U dun say so early hor... U c already then say...\n",
       "4      ham  Nah I don't think he goes to usf, he lives aro..."
      ]
     },
     "execution_count": 3,
     "metadata": {},
     "output_type": "execute_result"
    }
   ],
   "source": [
    "spam = pd.read_csv(\"spam.csv\")\n",
    "spam.head()"
   ]
  },
  {
   "cell_type": "code",
   "execution_count": 5,
   "id": "b26a827c",
   "metadata": {},
   "outputs": [
    {
     "name": "stdout",
     "output_type": "stream",
     "text": [
      "[0 0 1 ... 0 0 0]\n"
     ]
    }
   ],
   "source": [
    "## Preprocessamento (tratamento)\n",
    "labelencoder = LabelEncoder()\n",
    "y = labelencoder.fit_transform(spam[\"Category\"])\n",
    "print(y)"
   ]
  },
  {
   "cell_type": "code",
   "execution_count": 7,
   "id": "261ea803",
   "metadata": {},
   "outputs": [
    {
     "name": "stdout",
     "output_type": "stream",
     "text": [
      "['Moji i love you more than words. Have a rich day' 'Okie...'\n",
      " \"And also I've sorta blown him off a couple times recently so id rather not text him out of the blue looking for weed\"\n",
      " ... 'Ü say until like dat i dun buy ericsson oso cannot oredi lar...'\n",
      " 'Do u noe how 2 send files between 2 computers?'\n",
      " 'Email AlertFrom: Jeri StewartSize: 2KBSubject: Low-cost prescripiton drvgsTo listen to email call 123']\n"
     ]
    }
   ],
   "source": [
    "## Dividir Dados em Treino\n",
    "mensagens = spam[\"Message\"].values\n",
    "X_train,X_test, y_train,y_test = train_test_split(mensagens,y,test_size = 0.3)\n",
    "print(X_train)"
   ]
  },
  {
   "cell_type": "code",
   "execution_count": 8,
   "id": "92c06dfd",
   "metadata": {},
   "outputs": [
    {
     "name": "stdout",
     "output_type": "stream",
     "text": [
      "[[0 0 0 ... 0 0 0]\n",
      " [0 0 0 ... 0 0 0]\n",
      " [0 0 0 ... 0 0 0]\n",
      " ...\n",
      " [0 0 0 ... 0 0 0]\n",
      " [0 0 0 ... 0 0 0]\n",
      " [0 0 0 ... 0 0 0]]\n"
     ]
    }
   ],
   "source": [
    "vetorizador = CountVectorizer()\n",
    "vetorizador.fit(X_train)\n",
    "X_train = vetorizador.transform(X_train)\n",
    "X_test = vetorizador.transform(X_test)\n",
    "print(X_train.toarray())"
   ]
  },
  {
   "cell_type": "code",
   "execution_count": 9,
   "id": "426cd8d2",
   "metadata": {},
   "outputs": [],
   "source": [
    "## Criando Modelo\n",
    "modelo = Sequential()\n",
    "modelo.add(Dense( units=10, activation=\"relu\", input_dim= X_train.shape[1] ))\n",
    "modelo.add(Dropout(0.1))\n",
    "modelo.add(Dense( units=8, activation=\"relu\"))\n",
    "modelo.add(Dropout(0.1))\n",
    "modelo.add(Dense( units=1, activation=\"sigmoid\"))"
   ]
  },
  {
   "cell_type": "code",
   "execution_count": 15,
   "id": "4dac4bac",
   "metadata": {},
   "outputs": [
    {
     "name": "stdout",
     "output_type": "stream",
     "text": [
      "Model: \"sequential\"\n",
      "_________________________________________________________________\n",
      " Layer (type)                Output Shape              Param #   \n",
      "=================================================================\n",
      " dense (Dense)               (None, 10)                71370     \n",
      "                                                                 \n",
      " dropout (Dropout)           (None, 10)                0         \n",
      "                                                                 \n",
      " dense_1 (Dense)             (None, 8)                 88        \n",
      "                                                                 \n",
      " dropout_1 (Dropout)         (None, 8)                 0         \n",
      "                                                                 \n",
      " dense_2 (Dense)             (None, 1)                 9         \n",
      "                                                                 \n",
      "=================================================================\n",
      "Total params: 71,467\n",
      "Trainable params: 71,467\n",
      "Non-trainable params: 0\n",
      "_________________________________________________________________\n"
     ]
    }
   ],
   "source": [
    "## Montar a estrutura do Modelo\n",
    "modelo.compile(loss = \"mean_squared_error\", optimizer = \"adam\", metrics= [\"accuracy\"] )\n",
    "modelo.summary()"
   ]
  },
  {
   "cell_type": "code",
   "execution_count": 16,
   "id": "303da93d",
   "metadata": {
    "scrolled": true
   },
   "outputs": [
    {
     "name": "stdout",
     "output_type": "stream",
     "text": [
      "Epoch 1/20\n"
     ]
    },
    {
     "name": "stderr",
     "output_type": "stream",
     "text": [
      "C:\\Users\\thiago.ao\\Anaconda3\\lib\\site-packages\\tensorflow\\python\\framework\\indexed_slices.py:444: UserWarning: Converting sparse IndexedSlices(IndexedSlices(indices=Tensor(\"gradient_tape/sequential/dense/embedding_lookup_sparse/Reshape_1:0\", shape=(None,), dtype=int32), values=Tensor(\"gradient_tape/sequential/dense/embedding_lookup_sparse/Reshape:0\", shape=(None, 10), dtype=float32), dense_shape=Tensor(\"gradient_tape/sequential/dense/embedding_lookup_sparse/Cast:0\", shape=(2,), dtype=int32))) to a dense Tensor of unknown shape. This may consume a large amount of memory.\n",
      "  warnings.warn(\n"
     ]
    },
    {
     "name": "stdout",
     "output_type": "stream",
     "text": [
      "390/390 [==============================] - 1s 2ms/step - loss: 0.0844 - accuracy: 0.9292 - val_loss: 0.0191 - val_accuracy: 0.9809\n",
      "Epoch 2/20\n",
      "390/390 [==============================] - 1s 1ms/step - loss: 0.0118 - accuracy: 0.9890 - val_loss: 0.0140 - val_accuracy: 0.9827\n",
      "Epoch 3/20\n",
      "390/390 [==============================] - 1s 2ms/step - loss: 0.0061 - accuracy: 0.9949 - val_loss: 0.0124 - val_accuracy: 0.9839\n",
      "Epoch 4/20\n",
      "390/390 [==============================] - 1s 2ms/step - loss: 0.0034 - accuracy: 0.9967 - val_loss: 0.0113 - val_accuracy: 0.9862\n",
      "Epoch 5/20\n",
      "390/390 [==============================] - 1s 2ms/step - loss: 0.0027 - accuracy: 0.9969 - val_loss: 0.0125 - val_accuracy: 0.9850\n",
      "Epoch 6/20\n",
      "390/390 [==============================] - 1s 2ms/step - loss: 0.0017 - accuracy: 0.9985 - val_loss: 0.0118 - val_accuracy: 0.9850\n",
      "Epoch 7/20\n",
      "390/390 [==============================] - 1s 2ms/step - loss: 0.0015 - accuracy: 0.9987 - val_loss: 0.0102 - val_accuracy: 0.9892\n",
      "Epoch 8/20\n",
      "390/390 [==============================] - 1s 2ms/step - loss: 0.0013 - accuracy: 0.9987 - val_loss: 0.0126 - val_accuracy: 0.9844\n",
      "Epoch 9/20\n",
      "390/390 [==============================] - 1s 2ms/step - loss: 0.0016 - accuracy: 0.9979 - val_loss: 0.0115 - val_accuracy: 0.9862\n",
      "Epoch 10/20\n",
      "390/390 [==============================] - 1s 2ms/step - loss: 9.5477e-04 - accuracy: 0.9990 - val_loss: 0.0108 - val_accuracy: 0.9880\n",
      "Epoch 11/20\n",
      "390/390 [==============================] - 1s 2ms/step - loss: 0.0010 - accuracy: 0.9992 - val_loss: 0.0115 - val_accuracy: 0.9880\n",
      "Epoch 12/20\n",
      "390/390 [==============================] - 1s 2ms/step - loss: 8.1012e-04 - accuracy: 0.9992 - val_loss: 0.0122 - val_accuracy: 0.9862\n",
      "Epoch 13/20\n",
      "390/390 [==============================] - 1s 2ms/step - loss: 7.9307e-04 - accuracy: 0.9992 - val_loss: 0.0138 - val_accuracy: 0.9833\n",
      "Epoch 14/20\n",
      "390/390 [==============================] - 1s 2ms/step - loss: 8.8920e-04 - accuracy: 0.9987 - val_loss: 0.0114 - val_accuracy: 0.9880\n",
      "Epoch 15/20\n",
      "390/390 [==============================] - 1s 2ms/step - loss: 8.4185e-04 - accuracy: 0.9992 - val_loss: 0.0117 - val_accuracy: 0.9868\n",
      "Epoch 16/20\n",
      "390/390 [==============================] - 1s 2ms/step - loss: 6.1990e-04 - accuracy: 0.9995 - val_loss: 0.0122 - val_accuracy: 0.9844\n",
      "Epoch 17/20\n",
      "390/390 [==============================] - 1s 2ms/step - loss: 6.3072e-04 - accuracy: 0.9992 - val_loss: 0.0119 - val_accuracy: 0.9862\n",
      "Epoch 18/20\n",
      "390/390 [==============================] - 1s 2ms/step - loss: 6.8825e-04 - accuracy: 0.9995 - val_loss: 0.0117 - val_accuracy: 0.9868\n",
      "Epoch 19/20\n",
      "390/390 [==============================] - 1s 2ms/step - loss: 8.2409e-04 - accuracy: 0.9990 - val_loss: 0.0127 - val_accuracy: 0.9833\n",
      "Epoch 20/20\n",
      "390/390 [==============================] - 1s 2ms/step - loss: 6.0858e-04 - accuracy: 0.9995 - val_loss: 0.0134 - val_accuracy: 0.9827\n"
     ]
    },
    {
     "data": {
      "text/plain": [
       "<keras.callbacks.History at 0x1e9c3c99a00>"
      ]
     },
     "execution_count": 16,
     "metadata": {},
     "output_type": "execute_result"
    }
   ],
   "source": [
    "## Treinar o Modelo\n",
    "modelo.fit(X_train, y_train,epochs=20,batch_size=10, verbose= True, validation_data=(X_test,y_test))"
   ]
  },
  {
   "cell_type": "code",
   "execution_count": 18,
   "id": "9b1c7ac6",
   "metadata": {},
   "outputs": [
    {
     "name": "stdout",
     "output_type": "stream",
     "text": [
      "53/53 [==============================] - 0s 1ms/step - loss: 0.0134 - accuracy: 0.9827\n",
      "Loss: 0.013409281149506569\n",
      "Accuracy: 0.9826555252075195\n"
     ]
    }
   ],
   "source": [
    "loss,accuracy = modelo.evaluate(X_test,y_test)\n",
    "print(\"Loss:\",loss)\n",
    "print(\"Accuracy:\",accuracy)"
   ]
  },
  {
   "cell_type": "code",
   "execution_count": 19,
   "id": "838f8c91",
   "metadata": {},
   "outputs": [
    {
     "name": "stdout",
     "output_type": "stream",
     "text": [
      "53/53 [==============================] - 0s 1ms/step\n",
      "[[4.1959748e-08]\n",
      " [3.1987443e-06]\n",
      " [9.9999654e-01]\n",
      " ...\n",
      " [2.5224725e-03]\n",
      " [2.9204267e-07]\n",
      " [1.2540960e-04]]\n"
     ]
    }
   ],
   "source": [
    "nova_previsao = modelo.predict(X_test)\n",
    "print(nova_previsao)"
   ]
  },
  {
   "cell_type": "code",
   "execution_count": 21,
   "id": "a9f5e89f",
   "metadata": {},
   "outputs": [
    {
     "name": "stdout",
     "output_type": "stream",
     "text": [
      "[[False]\n",
      " [False]\n",
      " [ True]\n",
      " ...\n",
      " [False]\n",
      " [False]\n",
      " [False]]\n"
     ]
    }
   ],
   "source": [
    "prev = (nova_previsao > 0.5)\n",
    "print(prev)"
   ]
  },
  {
   "cell_type": "code",
   "execution_count": 22,
   "id": "a3eb41c0",
   "metadata": {},
   "outputs": [
    {
     "name": "stdout",
     "output_type": "stream",
     "text": [
      "[[1432    3]\n",
      " [  26  211]]\n"
     ]
    }
   ],
   "source": [
    "cm = confusion_matrix(y_test, prev)\n",
    "print(cm)"
   ]
  },
  {
   "cell_type": "code",
   "execution_count": null,
   "id": "eebbf6e9",
   "metadata": {},
   "outputs": [],
   "source": []
  }
 ],
 "metadata": {
  "kernelspec": {
   "display_name": "Python 3 (ipykernel)",
   "language": "python",
   "name": "python3"
  },
  "language_info": {
   "codemirror_mode": {
    "name": "ipython",
    "version": 3
   },
   "file_extension": ".py",
   "mimetype": "text/x-python",
   "name": "python",
   "nbconvert_exporter": "python",
   "pygments_lexer": "ipython3",
   "version": "3.9.13"
  }
 },
 "nbformat": 4,
 "nbformat_minor": 5
}
