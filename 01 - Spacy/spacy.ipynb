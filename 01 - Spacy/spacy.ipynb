{
 "cells": [
  {
   "cell_type": "code",
   "execution_count": 5,
   "metadata": {
    "id": "Ez9Ip9vbwEKS"
   },
   "outputs": [
    {
     "name": "stdout",
     "output_type": "stream",
     "text": [
      "Requirement already satisfied: spacy==3.2.0 in c:\\users\\thiago.ao\\anaconda3\\lib\\site-packages (3.2.0)\n",
      "Requirement already satisfied: setuptools in c:\\users\\thiago.ao\\anaconda3\\lib\\site-packages (from spacy==3.2.0) (61.2.0)\n",
      "Requirement already satisfied: preshed<3.1.0,>=3.0.2 in c:\\users\\thiago.ao\\anaconda3\\lib\\site-packages (from spacy==3.2.0) (3.0.8)\n",
      "Requirement already satisfied: pydantic!=1.8,!=1.8.1,<1.9.0,>=1.7.4 in c:\\users\\thiago.ao\\anaconda3\\lib\\site-packages (from spacy==3.2.0) (1.8.2)\n",
      "Requirement already satisfied: tqdm<5.0.0,>=4.38.0 in c:\\users\\thiago.ao\\anaconda3\\lib\\site-packages (from spacy==3.2.0) (4.64.0)\n",
      "Requirement already satisfied: numpy>=1.15.0 in c:\\users\\thiago.ao\\anaconda3\\lib\\site-packages (from spacy==3.2.0) (1.21.5)\n",
      "Requirement already satisfied: packaging>=20.0 in c:\\users\\thiago.ao\\anaconda3\\lib\\site-packages (from spacy==3.2.0) (21.3)\n",
      "Requirement already satisfied: typer<0.5.0,>=0.3.0 in c:\\users\\thiago.ao\\anaconda3\\lib\\site-packages (from spacy==3.2.0) (0.4.2)\n",
      "Requirement already satisfied: langcodes<4.0.0,>=3.2.0 in c:\\users\\thiago.ao\\anaconda3\\lib\\site-packages (from spacy==3.2.0) (3.3.0)\n",
      "Requirement already satisfied: cymem<2.1.0,>=2.0.2 in c:\\users\\thiago.ao\\anaconda3\\lib\\site-packages (from spacy==3.2.0) (2.0.7)\n",
      "Requirement already satisfied: thinc<8.1.0,>=8.0.12 in c:\\users\\thiago.ao\\anaconda3\\lib\\site-packages (from spacy==3.2.0) (8.0.17)\n",
      "Requirement already satisfied: spacy-legacy<3.1.0,>=3.0.8 in c:\\users\\thiago.ao\\anaconda3\\lib\\site-packages (from spacy==3.2.0) (3.0.10)\n",
      "Requirement already satisfied: blis<0.8.0,>=0.4.0 in c:\\users\\thiago.ao\\anaconda3\\lib\\site-packages (from spacy==3.2.0) (0.7.9)\n",
      "Requirement already satisfied: srsly<3.0.0,>=2.4.1 in c:\\users\\thiago.ao\\anaconda3\\lib\\site-packages (from spacy==3.2.0) (2.4.5)\n",
      "Requirement already satisfied: pathy>=0.3.5 in c:\\users\\thiago.ao\\anaconda3\\lib\\site-packages (from spacy==3.2.0) (0.6.2)\n",
      "Requirement already satisfied: requests<3.0.0,>=2.13.0 in c:\\users\\thiago.ao\\anaconda3\\lib\\site-packages (from spacy==3.2.0) (2.27.1)\n",
      "Requirement already satisfied: jinja2 in c:\\users\\thiago.ao\\anaconda3\\lib\\site-packages (from spacy==3.2.0) (2.11.3)\n",
      "Requirement already satisfied: catalogue<2.1.0,>=2.0.6 in c:\\users\\thiago.ao\\anaconda3\\lib\\site-packages (from spacy==3.2.0) (2.0.8)\n",
      "Requirement already satisfied: spacy-loggers<2.0.0,>=1.0.0 in c:\\users\\thiago.ao\\anaconda3\\lib\\site-packages (from spacy==3.2.0) (1.0.3)\n",
      "Requirement already satisfied: murmurhash<1.1.0,>=0.28.0 in c:\\users\\thiago.ao\\anaconda3\\lib\\site-packages (from spacy==3.2.0) (1.0.9)\n",
      "Requirement already satisfied: wasabi<1.1.0,>=0.8.1 in c:\\users\\thiago.ao\\anaconda3\\lib\\site-packages (from spacy==3.2.0) (0.10.1)\n",
      "Requirement already satisfied: pyparsing!=3.0.5,>=2.0.2 in c:\\users\\thiago.ao\\anaconda3\\lib\\site-packages (from packaging>=20.0->spacy==3.2.0) (3.0.4)\n",
      "Requirement already satisfied: smart-open<6.0.0,>=5.2.1 in c:\\users\\thiago.ao\\anaconda3\\lib\\site-packages (from pathy>=0.3.5->spacy==3.2.0) (5.2.1)\n",
      "Requirement already satisfied: typing-extensions>=3.7.4.3 in c:\\users\\thiago.ao\\anaconda3\\lib\\site-packages (from pydantic!=1.8,!=1.8.1,<1.9.0,>=1.7.4->spacy==3.2.0) (4.1.1)\n",
      "Requirement already satisfied: urllib3<1.27,>=1.21.1 in c:\\users\\thiago.ao\\anaconda3\\lib\\site-packages (from requests<3.0.0,>=2.13.0->spacy==3.2.0) (1.26.9)\n",
      "Requirement already satisfied: certifi>=2017.4.17 in c:\\users\\thiago.ao\\anaconda3\\lib\\site-packages (from requests<3.0.0,>=2.13.0->spacy==3.2.0) (2021.10.8)\n",
      "Requirement already satisfied: idna<4,>=2.5 in c:\\users\\thiago.ao\\anaconda3\\lib\\site-packages (from requests<3.0.0,>=2.13.0->spacy==3.2.0) (3.3)\n",
      "Requirement already satisfied: charset-normalizer~=2.0.0 in c:\\users\\thiago.ao\\anaconda3\\lib\\site-packages (from requests<3.0.0,>=2.13.0->spacy==3.2.0) (2.0.4)\n",
      "Requirement already satisfied: colorama in c:\\users\\thiago.ao\\anaconda3\\lib\\site-packages (from tqdm<5.0.0,>=4.38.0->spacy==3.2.0) (0.4.4)\n",
      "Requirement already satisfied: click<9.0.0,>=7.1.1 in c:\\users\\thiago.ao\\anaconda3\\lib\\site-packages (from typer<0.5.0,>=0.3.0->spacy==3.2.0) (8.0.4)\n",
      "Requirement already satisfied: MarkupSafe>=0.23 in c:\\users\\thiago.ao\\anaconda3\\lib\\site-packages (from jinja2->spacy==3.2.0) (2.0.1)\n"
     ]
    }
   ],
   "source": [
    "##!pip install -U spacy==3.2.0"
   ]
  },
  {
   "cell_type": "markdown",
   "metadata": {
    "id": "opLgfwKNwR3M"
   },
   "source": [
    "### !python -m spacy download 'pt_core_news_lg'"
   ]
  },
  {
   "cell_type": "code",
   "execution_count": 1,
   "metadata": {
    "executionInfo": {
     "elapsed": 7115,
     "status": "ok",
     "timestamp": 1666113740006,
     "user": {
      "displayName": "Thiago Oliveira",
      "userId": "16601839856738843834"
     },
     "user_tz": 180
    },
    "id": "g-8xPY8ewoCh"
   },
   "outputs": [],
   "source": [
    "import spacy"
   ]
  },
  {
   "cell_type": "code",
   "execution_count": 2,
   "metadata": {
    "executionInfo": {
     "elapsed": 5449,
     "status": "ok",
     "timestamp": 1666113745451,
     "user": {
      "displayName": "Thiago Oliveira",
      "userId": "16601839856738843834"
     },
     "user_tz": 180
    },
    "id": "714xGKTXxCRE"
   },
   "outputs": [
    {
     "ename": "OSError",
     "evalue": "[E050] Can't find model 'pt_core_news_lg'. It doesn't seem to be a Python package or a valid path to a data directory.",
     "output_type": "error",
     "traceback": [
      "\u001b[1;31m---------------------------------------------------------------------------\u001b[0m",
      "\u001b[1;31mOSError\u001b[0m                                   Traceback (most recent call last)",
      "Input \u001b[1;32mIn [2]\u001b[0m, in \u001b[0;36m<cell line: 1>\u001b[1;34m()\u001b[0m\n\u001b[1;32m----> 1\u001b[0m nlp \u001b[38;5;241m=\u001b[39m \u001b[43mspacy\u001b[49m\u001b[38;5;241;43m.\u001b[39;49m\u001b[43mload\u001b[49m\u001b[43m(\u001b[49m\u001b[38;5;124;43m\"\u001b[39;49m\u001b[38;5;124;43mpt_core_news_lg\u001b[39;49m\u001b[38;5;124;43m\"\u001b[39;49m\u001b[43m)\u001b[49m\n",
      "File \u001b[1;32m~\\Anaconda3\\lib\\site-packages\\spacy\\__init__.py:51\u001b[0m, in \u001b[0;36mload\u001b[1;34m(name, vocab, disable, exclude, config)\u001b[0m\n\u001b[0;32m     30\u001b[0m \u001b[38;5;28;01mdef\u001b[39;00m \u001b[38;5;21mload\u001b[39m(\n\u001b[0;32m     31\u001b[0m     name: Union[\u001b[38;5;28mstr\u001b[39m, Path],\n\u001b[0;32m     32\u001b[0m     \u001b[38;5;241m*\u001b[39m,\n\u001b[1;32m   (...)\u001b[0m\n\u001b[0;32m     36\u001b[0m     config: Union[Dict[\u001b[38;5;28mstr\u001b[39m, Any], Config] \u001b[38;5;241m=\u001b[39m util\u001b[38;5;241m.\u001b[39mSimpleFrozenDict(),\n\u001b[0;32m     37\u001b[0m ) \u001b[38;5;241m-\u001b[39m\u001b[38;5;241m>\u001b[39m Language:\n\u001b[0;32m     38\u001b[0m     \u001b[38;5;124;03m\"\"\"Load a spaCy model from an installed package or a local path.\u001b[39;00m\n\u001b[0;32m     39\u001b[0m \n\u001b[0;32m     40\u001b[0m \u001b[38;5;124;03m    name (str): Package name or model path.\u001b[39;00m\n\u001b[1;32m   (...)\u001b[0m\n\u001b[0;32m     49\u001b[0m \u001b[38;5;124;03m    RETURNS (Language): The loaded nlp object.\u001b[39;00m\n\u001b[0;32m     50\u001b[0m \u001b[38;5;124;03m    \"\"\"\u001b[39;00m\n\u001b[1;32m---> 51\u001b[0m     \u001b[38;5;28;01mreturn\u001b[39;00m \u001b[43mutil\u001b[49m\u001b[38;5;241;43m.\u001b[39;49m\u001b[43mload_model\u001b[49m\u001b[43m(\u001b[49m\n\u001b[0;32m     52\u001b[0m \u001b[43m        \u001b[49m\u001b[43mname\u001b[49m\u001b[43m,\u001b[49m\u001b[43m \u001b[49m\u001b[43mvocab\u001b[49m\u001b[38;5;241;43m=\u001b[39;49m\u001b[43mvocab\u001b[49m\u001b[43m,\u001b[49m\u001b[43m \u001b[49m\u001b[43mdisable\u001b[49m\u001b[38;5;241;43m=\u001b[39;49m\u001b[43mdisable\u001b[49m\u001b[43m,\u001b[49m\u001b[43m \u001b[49m\u001b[43mexclude\u001b[49m\u001b[38;5;241;43m=\u001b[39;49m\u001b[43mexclude\u001b[49m\u001b[43m,\u001b[49m\u001b[43m \u001b[49m\u001b[43mconfig\u001b[49m\u001b[38;5;241;43m=\u001b[39;49m\u001b[43mconfig\u001b[49m\n\u001b[0;32m     53\u001b[0m \u001b[43m    \u001b[49m\u001b[43m)\u001b[49m\n",
      "File \u001b[1;32m~\\Anaconda3\\lib\\site-packages\\spacy\\util.py:427\u001b[0m, in \u001b[0;36mload_model\u001b[1;34m(name, vocab, disable, exclude, config)\u001b[0m\n\u001b[0;32m    425\u001b[0m \u001b[38;5;28;01mif\u001b[39;00m name \u001b[38;5;129;01min\u001b[39;00m OLD_MODEL_SHORTCUTS:\n\u001b[0;32m    426\u001b[0m     \u001b[38;5;28;01mraise\u001b[39;00m \u001b[38;5;167;01mIOError\u001b[39;00m(Errors\u001b[38;5;241m.\u001b[39mE941\u001b[38;5;241m.\u001b[39mformat(name\u001b[38;5;241m=\u001b[39mname, full\u001b[38;5;241m=\u001b[39mOLD_MODEL_SHORTCUTS[name]))  \u001b[38;5;66;03m# type: ignore[index]\u001b[39;00m\n\u001b[1;32m--> 427\u001b[0m \u001b[38;5;28;01mraise\u001b[39;00m \u001b[38;5;167;01mIOError\u001b[39;00m(Errors\u001b[38;5;241m.\u001b[39mE050\u001b[38;5;241m.\u001b[39mformat(name\u001b[38;5;241m=\u001b[39mname))\n",
      "\u001b[1;31mOSError\u001b[0m: [E050] Can't find model 'pt_core_news_lg'. It doesn't seem to be a Python package or a valid path to a data directory."
     ]
    }
   ],
   "source": [
    "nlp = spacy.load(\"pt_core_news_lg\")"
   ]
  },
  {
   "cell_type": "code",
   "execution_count": 6,
   "metadata": {
    "colab": {
     "base_uri": "https://localhost:8080/"
    },
    "executionInfo": {
     "elapsed": 11,
     "status": "ok",
     "timestamp": 1666113745452,
     "user": {
      "displayName": "Thiago Oliveira",
      "userId": "16601839856738843834"
     },
     "user_tz": 180
    },
    "id": "abOB1VpSxNE1",
    "outputId": "309b06bf-46a9-440b-bba2-f65291267e26"
   },
   "outputs": [
    {
     "name": "stdout",
     "output_type": "stream",
     "text": [
      "<class 'spacy.lang.pt.Portuguese'>\n"
     ]
    }
   ],
   "source": [
    "print(type(nlp))"
   ]
  },
  {
   "cell_type": "code",
   "execution_count": 7,
   "metadata": {
    "colab": {
     "base_uri": "https://localhost:8080/"
    },
    "executionInfo": {
     "elapsed": 11,
     "status": "ok",
     "timestamp": 1666113745453,
     "user": {
      "displayName": "Thiago Oliveira",
      "userId": "16601839856738843834"
     },
     "user_tz": 180
    },
    "id": "l_Y8iq7WxeUE",
    "outputId": "2b201ac8-f3f3-406c-f2ac-d54ca5759dc9"
   },
   "outputs": [
    {
     "name": "stdout",
     "output_type": "stream",
     "text": [
      "['tok2vec', 'morphologizer', 'parser', 'attribute_ruler', 'lemmatizer', 'ner']\n"
     ]
    }
   ],
   "source": [
    "print(nlp.pipe_names)"
   ]
  },
  {
   "cell_type": "code",
   "execution_count": 8,
   "metadata": {
    "executionInfo": {
     "elapsed": 496,
     "status": "ok",
     "timestamp": 1666113745940,
     "user": {
      "displayName": "Thiago Oliveira",
      "userId": "16601839856738843834"
     },
     "user_tz": 180
    },
    "id": "853UAl4RxhN4"
   },
   "outputs": [],
   "source": [
    "documento = nlp(\"As ações do Magazine Luiza S.A., Franca, Brasil, acumularam baixa de 70% ao ano. Assim já devolveram todos os ganhos do período da pandemia\")\n",
    "#documento = nlp(\"Alegações extraordinárias requerem evidências extraordinárias. Carl Sagan: 'https://carlsagan.com'\")"
   ]
  },
  {
   "cell_type": "code",
   "execution_count": 9,
   "metadata": {
    "colab": {
     "base_uri": "https://localhost:8080/"
    },
    "executionInfo": {
     "elapsed": 42,
     "status": "ok",
     "timestamp": 1666113745941,
     "user": {
      "displayName": "Thiago Oliveira",
      "userId": "16601839856738843834"
     },
     "user_tz": 180
    },
    "id": "URUxYZnzyDZB",
    "outputId": "c0537808-18f8-4121-c9cb-d5a762921959"
   },
   "outputs": [
    {
     "data": {
      "text/plain": [
       "375"
      ]
     },
     "execution_count": 9,
     "metadata": {},
     "output_type": "execute_result"
    }
   ],
   "source": [
    "len(documento.vocab)"
   ]
  },
  {
   "cell_type": "code",
   "execution_count": 10,
   "metadata": {
    "colab": {
     "base_uri": "https://localhost:8080/"
    },
    "executionInfo": {
     "elapsed": 42,
     "status": "ok",
     "timestamp": 1666113745942,
     "user": {
      "displayName": "Thiago Oliveira",
      "userId": "16601839856738843834"
     },
     "user_tz": 180
    },
    "id": "fO2GUUIUyG4H",
    "outputId": "aab5411e-9057-4e69-beef-fc6f31ce2d34"
   },
   "outputs": [
    {
     "name": "stdout",
     "output_type": "stream",
     "text": [
      "<class 'spacy.tokens.doc.Doc'>\n"
     ]
    }
   ],
   "source": [
    "print(type(documento))"
   ]
  },
  {
   "cell_type": "markdown",
   "metadata": {
    "id": "GWLZ8WkYyskx"
   },
   "source": [
    "## Token"
   ]
  },
  {
   "cell_type": "code",
   "execution_count": null,
   "metadata": {
    "id": "bk1VUvoOyME4"
   },
   "outputs": [],
   "source": [
    "for token in documento:\n",
    "  print(token.text)"
   ]
  },
  {
   "cell_type": "code",
   "execution_count": 12,
   "metadata": {
    "colab": {
     "base_uri": "https://localhost:8080/"
    },
    "executionInfo": {
     "elapsed": 35,
     "status": "ok",
     "timestamp": 1666113745942,
     "user": {
      "displayName": "Thiago Oliveira",
      "userId": "16601839856738843834"
     },
     "user_tz": 180
    },
    "id": "vX7uTqVDy66u",
    "outputId": "a7f0d76e-463b-4e2b-9b00-dbc91520f2a7"
   },
   "outputs": [
    {
     "name": "stdout",
     "output_type": "stream",
     "text": [
      "Magazine\n"
     ]
    }
   ],
   "source": [
    "print(documento[3])"
   ]
  },
  {
   "cell_type": "code",
   "execution_count": 13,
   "metadata": {
    "colab": {
     "base_uri": "https://localhost:8080/"
    },
    "executionInfo": {
     "elapsed": 33,
     "status": "ok",
     "timestamp": 1666113745942,
     "user": {
      "displayName": "Thiago Oliveira",
      "userId": "16601839856738843834"
     },
     "user_tz": 180
    },
    "id": "UK425UE9znzv",
    "outputId": "bab9b70a-831e-44b0-f3a4-e325ff55eed1"
   },
   "outputs": [
    {
     "name": "stdout",
     "output_type": "stream",
     "text": [
      "Magazine Luiza\n"
     ]
    }
   ],
   "source": [
    "print(documento[3:5])"
   ]
  },
  {
   "cell_type": "code",
   "execution_count": 14,
   "metadata": {
    "colab": {
     "base_uri": "https://localhost:8080/"
    },
    "executionInfo": {
     "elapsed": 33,
     "status": "ok",
     "timestamp": 1666113745943,
     "user": {
      "displayName": "Thiago Oliveira",
      "userId": "16601839856738843834"
     },
     "user_tz": 180
    },
    "id": "b3zyLDsxz0qu",
    "outputId": "a66b884d-8851-408d-a4cc-ef9b04ab42ee"
   },
   "outputs": [
    {
     "name": "stdout",
     "output_type": "stream",
     "text": [
      "29\n"
     ]
    }
   ],
   "source": [
    "print(len(documento))"
   ]
  },
  {
   "cell_type": "code",
   "execution_count": 1,
   "metadata": {
    "id": "IB_aToKlz2gu"
   },
   "outputs": [
    {
     "ename": "NameError",
     "evalue": "name 'documento' is not defined",
     "output_type": "error",
     "traceback": [
      "\u001b[1;31m---------------------------------------------------------------------------\u001b[0m",
      "\u001b[1;31mNameError\u001b[0m                                 Traceback (most recent call last)",
      "Input \u001b[1;32mIn [1]\u001b[0m, in \u001b[0;36m<cell line: 1>\u001b[1;34m()\u001b[0m\n\u001b[1;32m----> 1\u001b[0m \u001b[38;5;28mprint\u001b[39m(\u001b[38;5;124m\"\u001b[39m\u001b[38;5;124mTokens:\u001b[39m\u001b[38;5;124m\"\u001b[39m , [token\u001b[38;5;241m.\u001b[39mtext \u001b[38;5;28;01mfor\u001b[39;00m token \u001b[38;5;129;01min\u001b[39;00m \u001b[43mdocumento\u001b[49m ])\n",
      "\u001b[1;31mNameError\u001b[0m: name 'documento' is not defined"
     ]
    }
   ],
   "source": [
    "print(\"Tokens:\" , [token.text for token in documento ])"
   ]
  },
  {
   "cell_type": "markdown",
   "metadata": {
    "id": "z4sBaaxZ6duM"
   },
   "source": []
  },
  {
   "cell_type": "code",
   "execution_count": null,
   "metadata": {
    "id": "CLCNsS9f0F2G"
   },
   "outputs": [],
   "source": [
    "print(\"Tokens:\" , [token.text for token in documento ])\n",
    "print(\"Stop word:\" , [token.is_stop for token in documento ])\n",
    "print(\"Alfanumérico:\" , [token.is_alpha for token in documento ])\n",
    "print(\"Maísculo:\" , [token.is_upper for token in documento ])\n",
    "print(\"Pontuação:\" , [token.is_punct for token in documento ])\n",
    "print(\"Número:\" , [token.like_num for token in documento ])\n",
    "print(\"Sentença Inicial:\" , [token.is_sent_start for token in documento ])"
   ]
  },
  {
   "cell_type": "code",
   "execution_count": null,
   "metadata": {
    "id": "7UPmcYZr1LX6"
   },
   "outputs": [],
   "source": [
    "print(\"Tokens:\" , [token.text for token in documento ])\n",
    "print(\"Stop word:\" , [token.shape_ for token in documento ])"
   ]
  },
  {
   "cell_type": "code",
   "execution_count": null,
   "metadata": {
    "id": "NXwT00cn1Pm9"
   },
   "outputs": [],
   "source": [
    "for token in documento:\n",
    "  if token.like_num:\n",
    "    print(\"Número encontrado: \",token.text)\n",
    "  if token.is_punct:\n",
    "    print(\"Pontuação encontrada: \", token.text)"
   ]
  },
  {
   "cell_type": "markdown",
   "metadata": {
    "id": "ISVxh7Rg6gU2"
   },
   "source": []
  },
  {
   "cell_type": "code",
   "execution_count": null,
   "metadata": {
    "id": "OpUe54vx4sAh"
   },
   "outputs": [],
   "source": [
    "for token in documento:\n",
    "  print(token.text,\" - \" , token.pos_, \" - \", token.dep_ , \" - \", token.lemma_, \" - \", token.shape_)"
   ]
  },
  {
   "cell_type": "code",
   "execution_count": null,
   "metadata": {
    "id": "FVCbq2YU5m7e"
   },
   "outputs": [],
   "source": [
    "for token in documento:\n",
    "  print(token.text,\" - \" , token.morph)"
   ]
  },
  {
   "cell_type": "code",
   "execution_count": null,
   "metadata": {
    "id": "qX9w1cRM558P"
   },
   "outputs": [],
   "source": [
    "for token in documento:\n",
    "  print(token.text,\" - \" , token.tag_)"
   ]
  },
  {
   "cell_type": "markdown",
   "metadata": {
    "id": "Q5VmDoqs6ai5"
   },
   "source": [
    "## Entidades nomeadas"
   ]
  },
  {
   "cell_type": "code",
   "execution_count": null,
   "metadata": {
    "id": "A0rRa-ro6XmC"
   },
   "outputs": [],
   "source": [
    "for ent in documento.ents:\n",
    "  print(ent.text,\" - \",ent.label_)"
   ]
  },
  {
   "cell_type": "markdown",
   "metadata": {
    "id": "J8-swzb86-CI"
   },
   "source": [
    "## Stop Words"
   ]
  },
  {
   "cell_type": "code",
   "execution_count": null,
   "metadata": {
    "id": "kcpU0L8W7AWE"
   },
   "outputs": [],
   "source": [
    "for token in documento:\n",
    "  if token.is_stop:\n",
    "    print(\"Stop word: \", token.text)"
   ]
  },
  {
   "cell_type": "code",
   "execution_count": null,
   "metadata": {
    "id": "hzK01sjD7ahp"
   },
   "outputs": [],
   "source": [
    "for words in nlp.Defaults.stop_words:\n",
    "  print(words)"
   ]
  },
  {
   "cell_type": "code",
   "execution_count": 25,
   "metadata": {
    "executionInfo": {
     "elapsed": 18,
     "status": "ok",
     "timestamp": 1666113746289,
     "user": {
      "displayName": "Thiago Oliveira",
      "userId": "16601839856738843834"
     },
     "user_tz": 180
    },
    "id": "izyWuP-h7xOL"
   },
   "outputs": [],
   "source": [
    "nlp.Defaults.stop_words.add(\"eita\")\n",
    "nlp.vocab['eita'].is_stop = True"
   ]
  },
  {
   "cell_type": "code",
   "execution_count": null,
   "metadata": {
    "id": "x5Oq03Bo8DrF"
   },
   "outputs": [],
   "source": [
    "token_lista = []\n",
    "for token in documento:\n",
    "  token_lista.append(token.text)\n",
    "\n",
    "stop_lista = []\n",
    "for words in nlp.Defaults.stop_words:\n",
    "  stop_lista.append(words)\n",
    "\n",
    "semstop = [word for word in token_lista if not word in stop_lista]\n",
    "\n",
    "print(documento.text)\n",
    "print(semstop)"
   ]
  },
  {
   "cell_type": "markdown",
   "metadata": {
    "id": "fLRVYQu69NQS"
   },
   "source": [
    "## Vocab"
   ]
  },
  {
   "cell_type": "code",
   "execution_count": null,
   "metadata": {
    "id": "JPVvni-j9P1s"
   },
   "outputs": [],
   "source": [
    "print(\"Hash: \",nlp.vocab.strings[\"dados\"])\n",
    "print(\"Hash: \",documento.vocab.strings[\"dados\"])\n",
    "print(\"String: \",nlp.vocab.strings[6013848609874238634])"
   ]
  },
  {
   "cell_type": "code",
   "execution_count": null,
   "metadata": {
    "id": "Xee-mJoW-ATq"
   },
   "outputs": [],
   "source": [
    "lex = nlp.vocab[\"dados\"]\n",
    "print(lex.text,\" - \",lex.orth, \" - \", lex.is_alpha, \" - \", lex.is_lower)"
   ]
  },
  {
   "cell_type": "code",
   "execution_count": null,
   "metadata": {
    "id": "lvhbc4VE-mSc"
   },
   "outputs": [],
   "source": [
    "print(nlp(\"dados\").vector.shape)"
   ]
  },
  {
   "cell_type": "markdown",
   "metadata": {
    "id": "j-VDJzW3E9e_"
   },
   "source": [
    "## Similaridade\n",
    " - Retornar um valor (métrica de similaridade)"
   ]
  },
  {
   "cell_type": "code",
   "execution_count": 30,
   "metadata": {
    "colab": {
     "base_uri": "https://localhost:8080/"
    },
    "executionInfo": {
     "elapsed": 11,
     "status": "ok",
     "timestamp": 1666113746291,
     "user": {
      "displayName": "Thiago Oliveira",
      "userId": "16601839856738843834"
     },
     "user_tz": 180
    },
    "id": "pekWgjVOGDIh",
    "outputId": "31f4abf7-b6dd-4c49-bb5c-668b08aedbc8"
   },
   "outputs": [
    {
     "name": "stdout",
     "output_type": "stream",
     "text": [
      "0.894174124950273\n"
     ]
    }
   ],
   "source": [
    "documento1 = nlp (\"Ele viaja regularmente de carro\")\n",
    "documento2 = nlp (\"Ela viaja regularmente de avião\")\n",
    "print(documento1.similarity(documento2))"
   ]
  },
  {
   "cell_type": "code",
   "execution_count": 31,
   "metadata": {
    "colab": {
     "base_uri": "https://localhost:8080/"
    },
    "executionInfo": {
     "elapsed": 311,
     "status": "ok",
     "timestamp": 1666113930231,
     "user": {
      "displayName": "Thiago Oliveira",
      "userId": "16601839856738843834"
     },
     "user_tz": 180
    },
    "id": "WaGSXnVuH6FO",
    "outputId": "30c7a247-fd99-458f-91aa-63131bc4a310"
   },
   "outputs": [
    {
     "name": "stdout",
     "output_type": "stream",
     "text": [
      "0.580434\n"
     ]
    }
   ],
   "source": [
    "documento3 = nlp (\"Devemos dizer comprimento ou cumprimento?\")\n",
    "tokenA= documento3[2]\n",
    "tokenB= documento3[4]\n",
    "print(tokenA.similarity(tokenB))\n"
   ]
  },
  {
   "cell_type": "code",
   "execution_count": 32,
   "metadata": {
    "colab": {
     "base_uri": "https://localhost:8080/"
    },
    "executionInfo": {
     "elapsed": 4,
     "status": "ok",
     "timestamp": 1666114047558,
     "user": {
      "displayName": "Thiago Oliveira",
      "userId": "16601839856738843834"
     },
     "user_tz": 180
    },
    "id": "eArDZGgLIZXa",
    "outputId": "4aa77b66-d601-498d-de60-f81f4303dca5"
   },
   "outputs": [
    {
     "name": "stdout",
     "output_type": "stream",
     "text": [
      "0.96300536\n"
     ]
    }
   ],
   "source": [
    "documento4 = nlp (\"Ele pede descrição. Ele pede discrição\")\n",
    "partA = documento4[0:3]\n",
    "partB = documento4[4:7]\n",
    "\n",
    "print(partA.similarity(partB))\n",
    "\n"
   ]
  },
  {
   "cell_type": "markdown",
   "metadata": {
    "id": "-wDXcvIQF0mk"
   },
   "source": [
    "## Matcher\n",
    " - Busca um padrão, retorna se encontra (semelhante a expressão regular)"
   ]
  },
  {
   "cell_type": "code",
   "execution_count": 33,
   "metadata": {
    "colab": {
     "base_uri": "https://localhost:8080/"
    },
    "executionInfo": {
     "elapsed": 313,
     "status": "ok",
     "timestamp": 1666114451384,
     "user": {
      "displayName": "Thiago Oliveira",
      "userId": "16601839856738843834"
     },
     "user_tz": 180
    },
    "id": "N7Dlrf6YE_aX",
    "outputId": "ad3d14b1-f09e-4a30-dee7-b277edd59b68"
   },
   "outputs": [
    {
     "name": "stdout",
     "output_type": "stream",
     "text": [
      "(51) - 9964656570\n",
      "(11) 12344988\n"
     ]
    }
   ],
   "source": [
    "from spacy.matcher import Matcher\n",
    "#inicializa\n",
    "matcher = Matcher(nlp.vocab)\n",
    "\n",
    "#Adiciona padrão para telefone (41) - 778778877\n",
    "padrao =  [ {\"ORTH\" :\"(\" },{\"SHAPE\": \"dd\"} , {\"ORTH\": \")\"}, {\"ORTH\": \"-\", \"OP\": \"?\"}, {\"IS_DIGIT\": True}]\n",
    "matcher.add(\"Telefone\",[padrao])\n",
    "\n",
    "documento5 = nlp (\"Você pode ligar para (51) - 9964656570 ou (11) 12344988\")\n",
    "\n",
    "matches = matcher(documento5)\n",
    "for match_id, start, end in matches:\n",
    "  print(documento5[start:end])"
   ]
  },
  {
   "cell_type": "code",
   "execution_count": null,
   "metadata": {
    "id": "cDaGF_cVLtfk"
   },
   "outputs": [],
   "source": [
    "documento6 = nlp (\"Estamos infectados com micro organismos. MICROORGANISMOS são perigosos. Não enxergamos micro-organismos\")\n",
    "matcher = Matcher(nlp.vocab)\n",
    "padrao1 = [ {\"LOWER\" : \"micro-organismos\"}  ] \n",
    "padrao2 = [ {\"LOWER\" : \"microorganismos\"}  ] \n",
    "padrao3 = [ {\"LOWER\" : \"micro\"}, {\"LOWER\":\"organismos\"}  ] \n",
    "\n",
    "matcher.add(\"padrao\",[padrao1,padrao2,padrao3])\n",
    "\n",
    "matches = matcher(documento6)\n",
    "for match_id, start, end in matches:\n",
    "  print(documento6[start:end])\n"
   ]
  },
  {
   "cell_type": "markdown",
   "metadata": {
    "id": "pMA_PGlxXSuB"
   },
   "source": [
    "## Displacy\n",
    " - Entidades Nomeadas\n",
    " - Dependência"
   ]
  },
  {
   "cell_type": "code",
   "execution_count": null,
   "metadata": {
    "id": "Y7Od2n3RXbvC"
   },
   "outputs": [],
   "source": [
    "from spacy import displacy\n",
    "displacy.render(documento,style=\"ent\", jupyter = True)\n"
   ]
  },
  {
   "cell_type": "code",
   "execution_count": null,
   "metadata": {
    "id": "5CFmMjPfYBSU"
   },
   "outputs": [],
   "source": [
    "documento.user_data[\"title\"] = \"Exemplo\"\n",
    "displacy.render(documento,style=\"dep\", jupyter = True,\n",
    "                  options= {\"compact\" : True, \"distance\" : 70, \"color\" : \"#FFFFFF\" , \"bg\" : \"#000000\" , \"font\" : \"Arial\"}\n",
    "                )\n"
   ]
  },
  {
   "cell_type": "markdown",
   "metadata": {
    "id": "yYMltiCDZCWB"
   },
   "source": [
    "## Pipeline"
   ]
  },
  {
   "cell_type": "code",
   "execution_count": 47,
   "metadata": {
    "colab": {
     "base_uri": "https://localhost:8080/"
    },
    "executionInfo": {
     "elapsed": 4,
     "status": "ok",
     "timestamp": 1666120123851,
     "user": {
      "displayName": "Thiago Oliveira",
      "userId": "16601839856738843834"
     },
     "user_tz": 180
    },
    "id": "oTbpc5r9fF4K",
    "outputId": "3d1a3e59-5330-4816-a2d4-fece5ffe8f2d"
   },
   "outputs": [
    {
     "name": "stdout",
     "output_type": "stream",
     "text": [
      "Pipeline Normal:  ['morphologizer', 'parser', 'attribute_ruler', 'lemmatizer', 'ner']\n"
     ]
    }
   ],
   "source": [
    "print(\"Pipeline Normal: \", nlp.pipe_names)"
   ]
  },
  {
   "cell_type": "code",
   "execution_count": null,
   "metadata": {
    "id": "b643bFdNfQ3D"
   },
   "outputs": [],
   "source": [
    "nlp.remove_pipe(\"tok2vec\")\n",
    "print(\"Pipeline sem tok2vec: \", nlp.pipe_names)"
   ]
  },
  {
   "cell_type": "code",
   "execution_count": 48,
   "metadata": {
    "colab": {
     "base_uri": "https://localhost:8080/"
    },
    "executionInfo": {
     "elapsed": 5,
     "status": "ok",
     "timestamp": 1666120128898,
     "user": {
      "displayName": "Thiago Oliveira",
      "userId": "16601839856738843834"
     },
     "user_tz": 180
    },
    "id": "MycD8X3KftV5",
    "outputId": "84beba2c-da9f-4c05-9847-acbcd48432db"
   },
   "outputs": [
    {
     "name": "stdout",
     "output_type": "stream",
     "text": [
      "Pipeline Normal:  ['morphologizer', 'tok2vec', 'parser', 'attribute_ruler', 'lemmatizer', 'ner']\n"
     ]
    }
   ],
   "source": [
    "nlp.add_pipe(\"tok2vec\", after=\"morphologizer\")\n",
    "print(\"Pipeline Normal: \", nlp.pipe_names)"
   ]
  }
 ],
 "metadata": {
  "colab": {
   "authorship_tag": "ABX9TyP3mAwURQxS7Hbn38epTjMX",
   "provenance": []
  },
  "kernelspec": {
   "display_name": "Python 3 (ipykernel)",
   "language": "python",
   "name": "python3"
  },
  "language_info": {
   "codemirror_mode": {
    "name": "ipython",
    "version": 3
   },
   "file_extension": ".py",
   "mimetype": "text/x-python",
   "name": "python",
   "nbconvert_exporter": "python",
   "pygments_lexer": "ipython3",
   "version": "3.9.12"
  }
 },
 "nbformat": 4,
 "nbformat_minor": 1
}
